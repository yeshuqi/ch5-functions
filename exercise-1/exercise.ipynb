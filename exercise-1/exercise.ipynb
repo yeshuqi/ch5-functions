{
 "cells": [
  {
   "cell_type": "markdown",
   "metadata": {},
   "source": [
    "# Exercise 1\n",
    "Add the specified code for each code cell, running the cells _in order_."
   ]
  },
  {
   "cell_type": "markdown",
   "metadata": {},
   "source": [
    "Create a variable `my_name` that contains your name."
   ]
  },
  {
   "cell_type": "code",
   "execution_count": 2,
   "metadata": {},
   "outputs": [],
   "source": [
    "my_name = \"Shuqi\""
   ]
  },
  {
   "cell_type": "markdown",
   "metadata": {},
   "source": [
    "Create a variable `name_length` that holds how many letters are in your name. Print the number of letters."
   ]
  },
  {
   "cell_type": "code",
   "execution_count": 4,
   "metadata": {},
   "outputs": [
    {
     "name": "stdout",
     "output_type": "stream",
     "text": [
      "5\n"
     ]
    }
   ],
   "source": [
    "name_length = len(my_name)\n",
    "print(name_length)"
   ]
  },
  {
   "cell_type": "markdown",
   "metadata": {},
   "source": [
    "Print out your name with the uppercase letters made lowercase, and the lowercase letters made uppercase. **Hint:** look for a [string method](https://docs.python.org/3/library/stdtypes.html#string-methods) that will modify the _case_ of the string.\n",
    "- Try to do this without creating a separate variable!"
   ]
  },
  {
   "cell_type": "code",
   "execution_count": 5,
   "metadata": {},
   "outputs": [
    {
     "name": "stdout",
     "output_type": "stream",
     "text": [
      "sHUQI\n"
     ]
    }
   ],
   "source": [
    "print(my_name.swapcase())"
   ]
  },
  {
   "cell_type": "markdown",
   "metadata": {},
   "source": [
    "Pick two of your favorite numbers (between 1 and 100) and assign them to `favorite_1` and `favorite_2`"
   ]
  },
  {
   "cell_type": "code",
   "execution_count": 18,
   "metadata": {},
   "outputs": [],
   "source": [
    "favourite_1 = 6\n",
    "favourite_2 = 8"
   ]
  },
  {
   "cell_type": "markdown",
   "metadata": {},
   "source": [
    "Divide each number by the length of your name raised to the power of `.598` (use the built-in `pow()` function for practice), and save it in the same variable."
   ]
  },
  {
   "cell_type": "code",
   "execution_count": 19,
   "metadata": {},
   "outputs": [
    {
     "name": "stdout",
     "output_type": "stream",
     "text": [
      "1.1151938998042805\n",
      "0.12847350280929787\n"
     ]
    }
   ],
   "source": [
    "favourite_1 = pow(favourite_1 / name_length, 0.598)\n",
    "favourite_2 = pow(favourate_2 / name_length, 0.598)\n",
    "print(favourite_1)\n",
    "print(favourite_2)"
   ]
  },
  {
   "cell_type": "markdown",
   "metadata": {},
   "source": [
    "Create a variable `raw_sum` that is the sum of those two variables. Note you _cannot_ use the `sum()` function for this, so just use a normal operator!"
   ]
  },
  {
   "cell_type": "code",
   "execution_count": 20,
   "metadata": {},
   "outputs": [
    {
     "name": "stdout",
     "output_type": "stream",
     "text": [
      "1.2436674026135783\n"
     ]
    }
   ],
   "source": [
    "raw_sum = favourite_1 + favourite_2\n",
    "print(raw_sum)"
   ]
  },
  {
   "cell_type": "markdown",
   "metadata": {},
   "source": [
    "Create a variable `round_sum` that is the `raw_sum` rounded to 1 decimal place. Use the `round()` function."
   ]
  },
  {
   "cell_type": "code",
   "execution_count": 21,
   "metadata": {},
   "outputs": [
    {
     "name": "stdout",
     "output_type": "stream",
     "text": [
      "1.2\n"
     ]
    }
   ],
   "source": [
    "round_sum = round(raw_sum, 1)\n",
    "print(round_sum)"
   ]
  },
  {
   "cell_type": "markdown",
   "metadata": {},
   "source": [
    "Create two new variables `rounded_1` and `rounded_2` that are your `favorite_1` and `favorite_2` variables rounded to 1 decimal place. Print them out on a single line (hint: pass them as two different arguments)."
   ]
  },
  {
   "cell_type": "code",
   "execution_count": 23,
   "metadata": {},
   "outputs": [
    {
     "name": "stdout",
     "output_type": "stream",
     "text": [
      "1.1\n",
      "0.1\n"
     ]
    }
   ],
   "source": [
    "rounded_1 = round(favourite_1, 1)\n",
    "rounded_2 = round(favourite_2, 1)\n",
    "print(str(rounded_1) + \"\\n\" + str(rounded_2))"
   ]
  },
  {
   "cell_type": "markdown",
   "metadata": {},
   "source": [
    "Create a variable `sum_round` that is the sum of the rounded values (use a normal math operator)."
   ]
  },
  {
   "cell_type": "code",
   "execution_count": 26,
   "metadata": {},
   "outputs": [
    {
     "name": "stdout",
     "output_type": "stream",
     "text": [
      "1.2000000000000002\n"
     ]
    }
   ],
   "source": [
    "sum_round = rounded_1 + rounded_2\n",
    "print(sum_round)"
   ]
  },
  {
   "cell_type": "markdown",
   "metadata": {},
   "source": [
    "Which is bigger, `round_sum` or `sum_round`? (You can use the `max()` function!)"
   ]
  },
  {
   "cell_type": "code",
   "execution_count": 25,
   "metadata": {},
   "outputs": [
    {
     "name": "stdout",
     "output_type": "stream",
     "text": [
      "1.2000000000000002\n"
     ]
    }
   ],
   "source": [
    "print(max(round_sum, sum_round))"
   ]
  },
  {
   "cell_type": "markdown",
   "metadata": {},
   "source": [
    "Create a variable `fruits` that contains the string `\"apples and bananas\"`"
   ]
  },
  {
   "cell_type": "code",
   "execution_count": 28,
   "metadata": {},
   "outputs": [],
   "source": [
    "fruits = \"apples and bananas\""
   ]
  },
  {
   "cell_type": "markdown",
   "metadata": {},
   "source": [
    "Use the `replace()` function to substitute all the \"a\"s in `fruits` with \"ee\". Store the result in a variable called `fruits_e`."
   ]
  },
  {
   "cell_type": "code",
   "execution_count": 31,
   "metadata": {},
   "outputs": [
    {
     "name": "stdout",
     "output_type": "stream",
     "text": [
      "eepples eend beeneenees\n"
     ]
    }
   ],
   "source": [
    "fruits_e = fruits.replace(\"a\", \"ee\")\n",
    "print(fruits_e)"
   ]
  },
  {
   "cell_type": "markdown",
   "metadata": {},
   "source": [
    "Use the `replace()` function to substitute all the \"a\"s in `fruits` with \"o\". Store the result in a variable called `fruits_o`."
   ]
  },
  {
   "cell_type": "code",
   "execution_count": 32,
   "metadata": {},
   "outputs": [],
   "source": [
    "fruits_o = fruits.replace(\"a\", \"o\")"
   ]
  },
  {
   "cell_type": "markdown",
   "metadata": {},
   "source": [
    "Print out the string \"I like to eat \" followed by each of `fruits`, `fruits_e` and `fruits_o` (three sentences)."
   ]
  },
  {
   "cell_type": "code",
   "execution_count": 33,
   "metadata": {},
   "outputs": [
    {
     "name": "stdout",
     "output_type": "stream",
     "text": [
      "I like to eat apples and bananas\n",
      "I like to eat eepples eend beeneenees\n",
      "I like to eat opples ond bononos\n"
     ]
    }
   ],
   "source": [
    "print(\"I like to eat \" + fruits)\n",
    "print(\"I like to eat \" + fruits_e)\n",
    "print(\"I like to eat \" + fruits_o)"
   ]
  },
  {
   "cell_type": "code",
   "execution_count": null,
   "metadata": {},
   "outputs": [],
   "source": []
  }
 ],
 "metadata": {
  "kernelspec": {
   "display_name": "Python 3",
   "language": "python",
   "name": "python3"
  },
  "language_info": {
   "codemirror_mode": {
    "name": "ipython",
    "version": 3
   },
   "file_extension": ".py",
   "mimetype": "text/x-python",
   "name": "python",
   "nbconvert_exporter": "python",
   "pygments_lexer": "ipython3",
   "version": "3.7.1"
  },
  "toc": {
   "colors": {
    "hover_highlight": "#DAA520",
    "running_highlight": "#FF0000",
    "selected_highlight": "#FFD700"
   },
   "moveMenuLeft": true,
   "nav_menu": {
    "height": "30px",
    "width": "252px"
   },
   "navigate_menu": true,
   "number_sections": true,
   "sideBar": true,
   "threshold": 4,
   "toc_cell": false,
   "toc_section_display": "block",
   "toc_window_display": false,
   "widenNotebook": false
  }
 },
 "nbformat": 4,
 "nbformat_minor": 2
}
